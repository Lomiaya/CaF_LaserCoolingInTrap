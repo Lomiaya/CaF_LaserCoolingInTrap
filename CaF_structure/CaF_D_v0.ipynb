{
 "cells": [
  {
   "cell_type": "code",
   "execution_count": 1,
   "id": "b7a11ea6",
   "metadata": {
    "tags": []
   },
   "outputs": [],
   "source": [
    "using QuantumStates, UnitsToValue"
   ]
  },
  {
   "cell_type": "code",
   "execution_count": 2,
   "id": "9365913a",
   "metadata": {
    "tags": []
   },
   "outputs": [],
   "source": [
    "H_operator = :(\n",
    "    TD * DiagonalOperator +\n",
    "    BD * Rotation\n",
    ");"
   ]
  },
  {
   "cell_type": "code",
   "execution_count": 3,
   "id": "77c935ab",
   "metadata": {
    "tags": []
   },
   "outputs": [
    {
     "data": {
      "text/plain": [
       "ParameterList(Dict{Symbol, ComplexF64}(:BD => 1.0955615585152e10 + 0.0im, :TD => 9.041325920310586e14 + 0.0im))"
      ]
     },
     "metadata": {},
     "output_type": "display_data"
    }
   ],
   "source": [
    "parameters = @params begin\n",
    "    TD        = 30158.617 * c * 1e2\n",
    "    BD        = 0.36544 * c * 1e2\n",
    "end"
   ]
  },
  {
   "cell_type": "code",
   "execution_count": 4,
   "id": "dfe9c620",
   "metadata": {
    "tags": []
   },
   "outputs": [],
   "source": [
    "QN_bounds = (label = \"D\", S = 1/2, I = 1/2, Λ = 0, N = 0:4, v = 0)\n",
    "basis = order_basis_by_m(enumerate_states(HundsCaseB_Rot, QN_bounds))\n",
    ";"
   ]
  },
  {
   "cell_type": "code",
   "execution_count": 5,
   "id": "1b70bd02",
   "metadata": {
    "tags": []
   },
   "outputs": [
    {
     "name": "stdout",
     "output_type": "stream",
     "text": [
      "  0.506576 seconds (990.35 k allocations: 53.183 MiB, 31.16% gc time, 99.79% compilation time)\n",
      "  0.104139 seconds (118.00 k allocations: 6.322 MiB, 99.78% compilation time)\n",
      "  0.237333 seconds (555.55 k allocations: 28.832 MiB, 99.70% compilation time)\n"
     ]
    }
   ],
   "source": [
    "CaF_D_v0 = @time Hamiltonian(basis=basis, operator=H_operator, parameters=parameters)\n",
    "@time full_evaluate!(CaF_D_v0)\n",
    "@time solve!(CaF_D_v0)\n",
    ";"
   ]
  },
  {
   "cell_type": "code",
   "execution_count": 6,
   "id": "a8629612",
   "metadata": {
    "tags": []
   },
   "outputs": [
    {
     "name": "stdout",
     "output_type": "stream",
     "text": [
      "  0.491920 seconds (1.51 M allocations: 74.602 MiB, 3.49% gc time, 99.40% compilation time)\n"
     ]
    }
   ],
   "source": [
    "@time save_to_file(CaF_D_v0, \"CaF_D_v0\", \"\")"
   ]
  }
 ],
 "metadata": {
  "kernelspec": {
   "display_name": "Julia 1.11.5",
   "language": "julia",
   "name": "julia-1.11"
  },
  "language_info": {
   "file_extension": ".jl",
   "mimetype": "application/julia",
   "name": "julia",
   "version": "1.11.5"
  }
 },
 "nbformat": 4,
 "nbformat_minor": 5
}
