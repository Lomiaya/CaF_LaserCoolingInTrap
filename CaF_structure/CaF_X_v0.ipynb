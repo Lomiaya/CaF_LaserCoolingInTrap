{
 "cells": [
  {
   "cell_type": "code",
   "execution_count": 1,
   "id": "ae78a1ba",
   "metadata": {},
   "outputs": [],
   "source": [
    "using QuantumStates"
   ]
  },
  {
   "cell_type": "code",
   "execution_count": 2,
   "id": "b7a11ea6",
   "metadata": {
    "tags": []
   },
   "outputs": [],
   "source": [
    "using UnitsToValue"
   ]
  },
  {
   "cell_type": "code",
   "execution_count": 3,
   "id": "9365913a",
   "metadata": {
    "tags": []
   },
   "outputs": [],
   "source": [
    "H_operator = :(\n",
    "    BX * Rotation + \n",
    "    DX * RotationDistortion + \n",
    "    γX * SpinRotation +\n",
    "    bFX * Hyperfine_IS + \n",
    "    cX * (Hyperfine_Dipolar/3)\n",
    ");"
   ]
  },
  {
   "cell_type": "code",
   "execution_count": 4,
   "id": "77c935ab",
   "metadata": {
    "tags": []
   },
   "outputs": [],
   "source": [
    "parameters = @params begin\n",
    "    BX = 10303.988 * 1e6\n",
    "    DX = 0.014060 * 1e6\n",
    "    γX = 39.65891 * 1e6\n",
    "    bFX = 122.5569 * 1e6 \n",
    "    cX = 40.1190 * 1e6\n",
    "end\n",
    ";"
   ]
  },
  {
   "cell_type": "code",
   "execution_count": 5,
   "id": "dfe9c620",
   "metadata": {
    "tags": []
   },
   "outputs": [],
   "source": [
    "QN_bounds = (label = \"X\", S = 1/2, I = 1/2, Λ = 0, N = 0:3, v = 0)\n",
    "basis = order_basis_by_m(enumerate_states(HundsCaseB_Rot, QN_bounds))\n",
    ";"
   ]
  },
  {
   "cell_type": "code",
   "execution_count": 6,
   "id": "1b70bd02",
   "metadata": {
    "tags": []
   },
   "outputs": [
    {
     "name": "stdout",
     "output_type": "stream",
     "text": [
      "  0.921075 seconds (2.03 M allocations: 104.103 MiB, 16.71% gc time, 99.87% compilation time)\n",
      "  0.210834 seconds (205.89 k allocations: 10.821 MiB, 99.81% compilation time)\n",
      "  0.225122 seconds (555.55 k allocations: 28.532 MiB, 99.67% compilation time)\n"
     ]
    }
   ],
   "source": [
    "CaF_X_v0 = @time Hamiltonian(basis=basis, operator=H_operator, parameters=parameters)\n",
    "@time full_evaluate!(CaF_X_v0)\n",
    "@time solve!(CaF_X_v0)\n",
    ";"
   ]
  },
  {
   "cell_type": "code",
   "execution_count": 7,
   "id": "a8629612",
   "metadata": {
    "tags": []
   },
   "outputs": [],
   "source": [
    "@time save_to_file(CaF_X_v0, \"CaF_X_v0\", \"\")"
   ]
  },
  {
   "cell_type": "code",
   "execution_count": 14,
   "id": "23d11b5b-4f80-44d8-9ee0-e6df94939e9d",
   "metadata": {},
   "outputs": [
    {
     "data": {
      "text/latex": [
       "$$0.658\\left|label=X, v=0, S=1/2, I=1/2, Λ=0, N=1, J=1/2, F=1, M=-1\\right\\rangle$$\n",
       "$$ + 0.753\\left|label=X, v=0, S=1/2, I=1/2, Λ=0, N=1, J=3/2, F=1, M=-1\\right\\rangle$$\n"
      ],
      "text/plain": [
       "State{HundsCaseB_Rot}(2.06321848040291e10, HundsCaseB_Rot[HundsCaseB_Rot(0.0, \"X\", 0, 1/2, 1/2, 0, 3, 7/2, 4, -4, (N = 0:∞, J = 2.5:1.0:3.5, F = 3.0:1.0:4.0, M = -4.0:1.0:4.0)), HundsCaseB_Rot(0.0, \"X\", 0, 1/2, 1/2, 0, 2, 5/2, 3, -3, (N = 0:∞, J = 1.5:1.0:2.5, F = 2.0:1.0:3.0, M = -3.0:1.0:3.0)), HundsCaseB_Rot(0.0, \"X\", 0, 1/2, 1/2, 0, 3, 5/2, 3, -3, (N = 0:∞, J = 2.5:1.0:3.5, F = 2.0:1.0:3.0, M = -3.0:1.0:3.0)), HundsCaseB_Rot(0.0, \"X\", 0, 1/2, 1/2, 0, 3, 7/2, 3, -3, (N = 0:∞, J = 2.5:1.0:3.5, F = 3.0:1.0:4.0, M = -3.0:1.0:3.0)), HundsCaseB_Rot(0.0, \"X\", 0, 1/2, 1/2, 0, 3, 7/2, 4, -3, (N = 0:∞, J = 2.5:1.0:3.5, F = 3.0:1.0:4.0, M = -4.0:1.0:4.0)), HundsCaseB_Rot(0.0, \"X\", 0, 1/2, 1/2, 0, 1, 3/2, 2, -2, (N = 0:∞, J = 0.5:1.0:1.5, F = 1.0:1.0:2.0, M = -2.0:1.0:2.0)), HundsCaseB_Rot(0.0, \"X\", 0, 1/2, 1/2, 0, 2, 3/2, 2, -2, (N = 0:∞, J = 1.5:1.0:2.5, F = 1.0:1.0:2.0, M = -2.0:1.0:2.0)), HundsCaseB_Rot(0.0, \"X\", 0, 1/2, 1/2, 0, 2, 5/2, 2, -2, (N = 0:∞, J = 1.5:1.0:2.5, F = 2.0:1.0:3.0, M = -2.0:1.0:2.0)), HundsCaseB_Rot(0.0, \"X\", 0, 1/2, 1/2, 0, 2, 5/2, 3, -2, (N = 0:∞, J = 1.5:1.0:2.5, F = 2.0:1.0:3.0, M = -3.0:1.0:3.0)), HundsCaseB_Rot(0.0, \"X\", 0, 1/2, 1/2, 0, 3, 5/2, 2, -2, (N = 0:∞, J = 2.5:1.0:3.5, F = 2.0:1.0:3.0, M = -2.0:1.0:2.0))  …  HundsCaseB_Rot(0.0, \"X\", 0, 1/2, 1/2, 0, 2, 5/2, 3, 2, (N = 0:∞, J = 1.5:1.0:2.5, F = 2.0:1.0:3.0, M = -3.0:1.0:3.0)), HundsCaseB_Rot(0.0, \"X\", 0, 1/2, 1/2, 0, 3, 5/2, 2, 2, (N = 0:∞, J = 2.5:1.0:3.5, F = 2.0:1.0:3.0, M = -2.0:1.0:2.0)), HundsCaseB_Rot(0.0, \"X\", 0, 1/2, 1/2, 0, 3, 5/2, 3, 2, (N = 0:∞, J = 2.5:1.0:3.5, F = 2.0:1.0:3.0, M = -3.0:1.0:3.0)), HundsCaseB_Rot(0.0, \"X\", 0, 1/2, 1/2, 0, 3, 7/2, 3, 2, (N = 0:∞, J = 2.5:1.0:3.5, F = 3.0:1.0:4.0, M = -3.0:1.0:3.0)), HundsCaseB_Rot(0.0, \"X\", 0, 1/2, 1/2, 0, 3, 7/2, 4, 2, (N = 0:∞, J = 2.5:1.0:3.5, F = 3.0:1.0:4.0, M = -4.0:1.0:4.0)), HundsCaseB_Rot(0.0, \"X\", 0, 1/2, 1/2, 0, 2, 5/2, 3, 3, (N = 0:∞, J = 1.5:1.0:2.5, F = 2.0:1.0:3.0, M = -3.0:1.0:3.0)), HundsCaseB_Rot(0.0, \"X\", 0, 1/2, 1/2, 0, 3, 5/2, 3, 3, (N = 0:∞, J = 2.5:1.0:3.5, F = 2.0:1.0:3.0, M = -3.0:1.0:3.0)), HundsCaseB_Rot(0.0, \"X\", 0, 1/2, 1/2, 0, 3, 7/2, 3, 3, (N = 0:∞, J = 2.5:1.0:3.5, F = 3.0:1.0:4.0, M = -3.0:1.0:3.0)), HundsCaseB_Rot(0.0, \"X\", 0, 1/2, 1/2, 0, 3, 7/2, 4, 3, (N = 0:∞, J = 2.5:1.0:3.5, F = 3.0:1.0:4.0, M = -4.0:1.0:4.0)), HundsCaseB_Rot(0.0, \"X\", 0, 1/2, 1/2, 0, 3, 7/2, 4, 4, (N = 0:∞, J = 2.5:1.0:3.5, F = 3.0:1.0:4.0, M = -4.0:1.0:4.0))], ComplexF64[0.0 + 0.0im, 0.0 + 0.0im, 0.0 + 0.0im, 0.0 + 0.0im, 0.0 + 0.0im, 0.0 + 0.0im, 0.0 + 0.0im, 0.0 + 0.0im, 0.0 + 0.0im, 0.0 + 0.0im  …  0.0 + 0.0im, 0.0 + 0.0im, 0.0 + 0.0im, 0.0 + 0.0im, 0.0 + 0.0im, 0.0 + 0.0im, 0.0 + 0.0im, 0.0 + 0.0im, 0.0 + 0.0im, 0.0 + 0.0im], 9)"
      ]
     },
     "metadata": {},
     "output_type": "display_data"
    }
   ],
   "source": [
    "CaF_X_v0.states[9] |> display"
   ]
  }
 ],
 "metadata": {
  "kernelspec": {
   "display_name": "Julia 1.11.5",
   "language": "julia",
   "name": "julia-1.11"
  },
  "language_info": {
   "file_extension": ".jl",
   "mimetype": "application/julia",
   "name": "julia",
   "version": "1.11.5"
  }
 },
 "nbformat": 4,
 "nbformat_minor": 5
}
