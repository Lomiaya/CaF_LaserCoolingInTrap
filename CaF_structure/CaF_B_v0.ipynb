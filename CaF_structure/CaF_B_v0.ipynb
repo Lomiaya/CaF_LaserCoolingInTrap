{
 "cells": [
  {
   "cell_type": "code",
   "execution_count": 1,
   "id": "b7a11ea6",
   "metadata": {
    "tags": []
   },
   "outputs": [],
   "source": [
    "using QuantumStates, UnitsToValue"
   ]
  },
  {
   "cell_type": "code",
   "execution_count": 2,
   "id": "9365913a",
   "metadata": {
    "tags": []
   },
   "outputs": [],
   "source": [
    "H_operator = :(\n",
    "    Te * DiagonalOperator +\n",
    "    BX * Rotation + \n",
    "    DX * RotationDistortion + \n",
    "    γX * SpinRotation +\n",
    "    bFX * Hyperfine_IS + \n",
    "    cX * (Hyperfine_Dipolar/3)\n",
    ");"
   ]
  },
  {
   "cell_type": "code",
   "execution_count": 3,
   "id": "77c935ab",
   "metadata": {
    "tags": []
   },
   "outputs": [],
   "source": [
    "parameters = @params begin\n",
    "    Te = 18844.5 * c * 1e2\n",
    "    BX = 10303.988 * 1e6\n",
    "    DX = 0.014060 * 1e6\n",
    "    γX = 39.65891 * 1e6\n",
    "    bX = 109.1839 * 1e6\n",
    "    cX = 40.1190 * 1e6\n",
    "end\n",
    "parameters.param_dict[:bFX] = parameters.bX + parameters.cX / 3;"
   ]
  },
  {
   "cell_type": "code",
   "execution_count": 4,
   "id": "dfe9c620",
   "metadata": {
    "tags": []
   },
   "outputs": [],
   "source": [
    "QN_bounds = (label = \"B\", S = 1/2, I = 1/2, Λ = 0, N = 0:4, v = 0)\n",
    "basis = order_basis_by_m(enumerate_states(HundsCaseB_Rot, QN_bounds))\n",
    ";"
   ]
  },
  {
   "cell_type": "code",
   "execution_count": 5,
   "id": "1b70bd02",
   "metadata": {
    "tags": []
   },
   "outputs": [
    {
     "name": "stdout",
     "output_type": "stream",
     "text": [
      "  0.999758 seconds (2.04 M allocations: 107.697 MiB, 16.48% gc time, 99.74% compilation time)\n",
      "  0.260359 seconds (235.27 k allocations: 13.343 MiB, 99.60% compilation time)\n",
      "  0.243969 seconds (555.55 k allocations: 28.831 MiB, 99.57% compilation time)\n"
     ]
    }
   ],
   "source": [
    "CaF_B_v0 = @time Hamiltonian(basis=basis, operator=H_operator, parameters=parameters)\n",
    "@time full_evaluate!(CaF_B_v0)\n",
    "@time solve!(CaF_B_v0)\n",
    ";"
   ]
  },
  {
   "cell_type": "code",
   "execution_count": 6,
   "id": "a8629612",
   "metadata": {
    "tags": []
   },
   "outputs": [
    {
     "name": "stdout",
     "output_type": "stream",
     "text": [
      "  0.496814 seconds (1.52 M allocations: 75.328 MiB, 99.46% compilation time)\n"
     ]
    }
   ],
   "source": [
    "@time save_to_file(CaF_B_v0, \"CaF_B_v0\", \"\")"
   ]
  }
 ],
 "metadata": {
  "kernelspec": {
   "display_name": "Julia 1.11.5",
   "language": "julia",
   "name": "julia-1.11"
  },
  "language_info": {
   "file_extension": ".jl",
   "mimetype": "application/julia",
   "name": "julia",
   "version": "1.11.5"
  }
 },
 "nbformat": 4,
 "nbformat_minor": 5
}
