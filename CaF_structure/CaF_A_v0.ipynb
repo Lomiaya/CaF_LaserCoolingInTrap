{
 "cells": [
  {
   "cell_type": "code",
   "execution_count": 1,
   "id": "4ebeb064",
   "metadata": {},
   "outputs": [],
   "source": [
    "using QuantumStates"
   ]
  },
  {
   "cell_type": "markdown",
   "id": "8825e69d-f7c5-47e2-a99e-2a0b2a7c8a7c",
   "metadata": {},
   "source": [
    "The Hamiltonian is assumed to take the following form:\n",
    "$$\n",
    "H(A^2\\Pi) = T + A \\Lambda \\Sigma + BN^2 - DN^4 + \\frac{1}{2} (p + 2q)(e^{2i\\phi} S_- J_- + e^{-2i\\phi} S_+ J_+) - \\frac{1}{2} q (e^{2i\\phi} J_-^2 + e^{-2i\\phi} J_+^2).\n",
    "$$\n",
    "These terms correspond to the origin, spin-orbit, rotation and centrifugal distortion correction, and $\\Lambda$-doubling terms."
   ]
  },
  {
   "cell_type": "code",
   "execution_count": 2,
   "id": "83847b16",
   "metadata": {
    "tags": []
   },
   "outputs": [],
   "source": [
    "H_operator = :(\n",
    "    T_A * DiagonalOperator +\n",
    "    Be_A * Rotation + \n",
    "    Aso_A * SpinOrbit + \n",
    "    q_A * (ΛDoubling_q + 2ΛDoubling_p2q) +\n",
    "    p_A * ΛDoubling_p2q + \n",
    "    # B_z * Zeeman_L +\n",
    "    # b00_A * Hyperfine_IL +\n",
    "    # b00_A * Hyperfine_IF +\n",
    "    b00_A * (Hyperfine_IF - Hyperfine_IL)\n",
    ");"
   ]
  },
  {
   "cell_type": "code",
   "execution_count": 3,
   "id": "57fdbe2a",
   "metadata": {},
   "outputs": [
    {
     "data": {
      "text/plain": [
       "ParameterList(Dict{Symbol, ComplexF64}(:b00_A => 1.0e6 + 0.0im, :Be_A => 1.04561913293698e10 + 0.0im, :q_A => -8.74194807528e6 + 0.0im, :Aso_A => 2.1413875482482002e12 + 0.0im, :p_A => -1.3345860852786e9 + 0.0im, :T_A => 4.9545950052515e14 + 0.0im))"
      ]
     },
     "metadata": {},
     "output_type": "display_data"
    }
   ],
   "source": [
    "# Spectroscopic constants for the A²Π state in CaF (from Eunmi Chae's thesis, 2016)\n",
    "parameters = @params begin\n",
    "    T_A = 16526.750 * c * 1e2\n",
    "    Be_A = 0.348781 * c * 1e2\n",
    "    Aso_A = 71.429 * c * 1e2\n",
    "    b00_A = 1e6\n",
    "    p_A = -0.044517 * c * 1e2\n",
    "    q_A = -2.916e-4 * c * 1e2\n",
    "end"
   ]
  },
  {
   "cell_type": "code",
   "execution_count": 4,
   "id": "2802412d",
   "metadata": {},
   "outputs": [],
   "source": [
    "QN_bounds = (label = \"A\", S = 1/2, I = 1/2, Λ = (-1,1), J = 1/2:11/2, v = 0)\n",
    "basis = order_basis_by_m(enumerate_states(HundsCaseA_Rot, QN_bounds))\n",
    ";"
   ]
  },
  {
   "cell_type": "code",
   "execution_count": 5,
   "id": "241c562c",
   "metadata": {},
   "outputs": [
    {
     "name": "stdout",
     "output_type": "stream",
     "text": [
      "  1.842700 seconds (19.05 M allocations: 636.968 MiB, 14.38% gc time, 48.00% compilation time)\n",
      "  1.628794 seconds (17.55 M allocations: 530.226 MiB, 34.70% gc time, 21.09% compilation time)\n",
      "  0.357962 seconds (555.55 k allocations: 33.480 MiB, 93.62% compilation time)\n"
     ]
    }
   ],
   "source": [
    "CaF_A_v0 = @time Hamiltonian(basis=basis, operator=H_operator, parameters=parameters)\n",
    "@time full_evaluate!(CaF_A_v0)\n",
    "@time solve!(CaF_A_v0)\n",
    ";"
   ]
  },
  {
   "cell_type": "code",
   "execution_count": 6,
   "id": "19b0a5a1",
   "metadata": {},
   "outputs": [
    {
     "name": "stdout",
     "output_type": "stream",
     "text": [
      "  0.639439 seconds (1.53 M allocations: 75.102 MiB, 96.76% compilation time)\n"
     ]
    }
   ],
   "source": [
    "@time save_to_file(CaF_A_v0, \"CaF_A_v0\", \"\")"
   ]
  },
  {
   "cell_type": "markdown",
   "id": "c5e112aa-6904-4685-b7f1-c3cfd2ce5007",
   "metadata": {},
   "source": [
    "# Save a version with case B as well"
   ]
  },
  {
   "cell_type": "code",
   "execution_count": 7,
   "id": "a2f304d3-c1fc-47a2-9d1c-c39167f50f4f",
   "metadata": {},
   "outputs": [],
   "source": [
    "QN_bounds = (\n",
    "    label = \"A\",\n",
    "    S = 1/2, \n",
    "    I = 1/2, \n",
    "    Λ = (-1,1),\n",
    "    N = 0:6,\n",
    "    J = 1/2:11/2,\n",
    "    v = 0\n",
    ")\n",
    "CaF_A_v0_caseB_basis = order_basis_by_m(enumerate_states(HundsCaseB_Rot, QN_bounds))\n",
    "CaF_A_v0_caseB = convert_basis(CaF_A_v0, CaF_A_v0_caseB_basis)\n",
    "\n",
    "@time save_to_file(CaF_A_v0_caseB, \"CaF_A_v0_caseB\", \"\")"
   ]
  }
 ],
 "metadata": {
  "kernelspec": {
   "display_name": "Julia 1.11.5",
   "language": "julia",
   "name": "julia-1.11"
  },
  "language_info": {
   "file_extension": ".jl",
   "mimetype": "application/julia",
   "name": "julia",
   "version": "1.11.5"
  }
 },
 "nbformat": 4,
 "nbformat_minor": 5
}
