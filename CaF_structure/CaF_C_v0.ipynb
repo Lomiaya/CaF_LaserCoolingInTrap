{
 "cells": [
  {
   "cell_type": "code",
   "execution_count": 1,
   "id": "4ebeb064",
   "metadata": {},
   "outputs": [],
   "source": [
    "using QuantumStates"
   ]
  },
  {
   "cell_type": "markdown",
   "id": "8825e69d-f7c5-47e2-a99e-2a0b2a7c8a7c",
   "metadata": {},
   "source": [
    "The Hamiltonian is assumed to take the following form:\n",
    "$$\n",
    "H(A^2\\Pi) = T + A \\Lambda \\Sigma + BN^2 - DN^4 + \\frac{1}{2} (p + 2q)(e^{2i\\phi} S_- J_- + e^{-2i\\phi} S_+ J_+) - \\frac{1}{2} q (e^{2i\\phi} J_-^2 + e^{-2i\\phi} J_+^2).\n",
    "$$\n",
    "These terms correspond to the origin, spin-orbit, rotation and centrifugal distortion correction, and $\\Lambda$-doubling terms."
   ]
  },
  {
   "cell_type": "code",
   "execution_count": 2,
   "id": "83847b16",
   "metadata": {
    "tags": []
   },
   "outputs": [],
   "source": [
    "H_operator = :(\n",
    "    T_C * DiagonalOperator +\n",
    "    Be_C * Rotation + \n",
    "    Aso_C * SpinOrbit + \n",
    "    q_C * (ΛDoubling_q + 2ΛDoubling_p2q) +\n",
    "    p_C * ΛDoubling_p2q\n",
    ");"
   ]
  },
  {
   "cell_type": "code",
   "execution_count": 3,
   "id": "57fdbe2a",
   "metadata": {},
   "outputs": [],
   "source": [
    "# Spectroscopic constants for the C²Π state in CaF\n",
    "parameters = @params begin # Analysis and Deperturbation of the C2pi and D2sigma+ states of CaF\n",
    "    T_C = 30215.949 * c * 1e2\n",
    "    Be_C = 0.323368 * c * 1e2\n",
    "    Aso_C = 29.320 * c * 1e2\n",
    "    p_C = -4.89e-3 * c * 1e2 # JOURNAL OF MOLECULAR SPECTROSCOPY 153,81-90 ( 1992)\n",
    "    q_C = 1.05e-4 * c * 1e2 # JOURNAL OF MOLECULAR SPECTROSCOPY 153,81-90 ( 1992)\n",
    "end;"
   ]
  },
  {
   "cell_type": "code",
   "execution_count": 4,
   "id": "2802412d",
   "metadata": {},
   "outputs": [],
   "source": [
    "QN_bounds = (label = \"C\", S = 1/2, I = 1/2, Λ = (-1,1), J = 1/2:11/2, v = 0)\n",
    "basis = order_basis_by_m(enumerate_states(HundsCaseA_Rot, QN_bounds))\n",
    ";"
   ]
  },
  {
   "cell_type": "code",
   "execution_count": 5,
   "id": "241c562c",
   "metadata": {},
   "outputs": [
    {
     "name": "stdout",
     "output_type": "stream",
     "text": [
      "  1.187188 seconds (11.15 M allocations: 399.340 MiB, 20.81% gc time, 49.62% compilation time)\n",
      "  0.904359 seconds (9.88 M allocations: 305.513 MiB, 37.15% gc time, 24.21% compilation time)\n",
      "  0.244140 seconds (555.55 k allocations: 33.479 MiB, 92.43% compilation time)\n"
     ]
    }
   ],
   "source": [
    "CaF_C_v0 = @time Hamiltonian(basis=basis, operator=H_operator, parameters=parameters)\n",
    "@time full_evaluate!(CaF_C_v0)\n",
    "@time solve!(CaF_C_v0)\n",
    ";"
   ]
  },
  {
   "cell_type": "code",
   "execution_count": 6,
   "id": "19b0a5a1",
   "metadata": {},
   "outputs": [
    {
     "name": "stdout",
     "output_type": "stream",
     "text": [
      "  0.495950 seconds (1.54 M allocations: 75.811 MiB, 97.55% compilation time)\n"
     ]
    }
   ],
   "source": [
    "@time save_to_file(CaF_C_v0, \"CaF_C_v0\", \"\")"
   ]
  },
  {
   "cell_type": "markdown",
   "id": "c5e112aa-6904-4685-b7f1-c3cfd2ce5007",
   "metadata": {},
   "source": [
    "# Save a version with case B as well"
   ]
  },
  {
   "cell_type": "code",
   "execution_count": 7,
   "id": "a2f304d3-c1fc-47a2-9d1c-c39167f50f4f",
   "metadata": {},
   "outputs": [
    {
     "name": "stdout",
     "output_type": "stream",
     "text": [
      "  0.058266 seconds (302.34 k allocations: 14.391 MiB, 81.94% compilation time)\n"
     ]
    }
   ],
   "source": [
    "QN_bounds = (\n",
    "    label = \"C\",\n",
    "    S = 1/2, \n",
    "    I = 1/2, \n",
    "    Λ = (-1,1),\n",
    "    N = 0:6,\n",
    "    J = 1/2:11/2,\n",
    "    v = 0\n",
    ")\n",
    "CaF_C_v0_caseB_basis = order_basis_by_m(enumerate_states(HundsCaseB_Rot, QN_bounds))\n",
    "CaF_C_v0_caseB = convert_basis(CaF_C_v0, CaF_C_v0_caseB_basis)\n",
    "\n",
    "@time save_to_file(CaF_C_v0_caseB, \"CaF_C_v0_caseB\", \"\")"
   ]
  },
  {
   "cell_type": "code",
   "execution_count": 8,
   "id": "98ab4e3c-56be-494d-9368-56aeb0be4cd0",
   "metadata": {},
   "outputs": [],
   "source": []
  }
 ],
 "metadata": {
  "kernelspec": {
   "display_name": "Julia 1.11.5",
   "language": "julia",
   "name": "julia-1.11"
  },
  "language_info": {
   "file_extension": ".jl",
   "mimetype": "application/julia",
   "name": "julia",
   "version": "1.11.5"
  }
 },
 "nbformat": 4,
 "nbformat_minor": 5
}
